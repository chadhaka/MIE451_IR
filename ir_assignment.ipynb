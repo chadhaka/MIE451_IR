{
 "cells": [
  {
   "cell_type": "markdown",
   "metadata": {},
   "source": [
    "# Assignment 2: IR"
   ]
  },
  {
   "cell_type": "markdown",
   "metadata": {},
   "source": [
    "## Preparations\n",
    "* Put all your imports, and path constants in the next cells\n",
    "* Make sure ***MATERIALS_DIR*** points to the directory where you extracted the Zip file.\n",
    "* Make sure all your paths are **relative to ** ***MATERIALS_DIR*** and **NOT hard-coded** in your code."
   ]
  },
  {
   "cell_type": "code",
   "execution_count": 1,
   "metadata": {
    "collapsed": true
   },
   "outputs": [],
   "source": [
    "# imports\n",
    "# Put all your imports here\n",
    "\n",
    "from whoosh import index, writing\n",
    "from whoosh.fields import Schema, TEXT, KEYWORD, ID, STORED\n",
    "from whoosh.analysis import *\n",
    "from whoosh.qparser import QueryParser\n",
    "import os, os.path\n",
    "import shutil\n",
    "# NLTK Library\n",
    "import nltk\n",
    "from nltk.stem import *"
   ]
  },
  {
   "cell_type": "code",
   "execution_count": 2,
   "metadata": {
    "collapsed": true
   },
   "outputs": [],
   "source": [
    "MATERIALS_DIR = r\"C:\\DSS_Fall2017_Assign2\"\n",
    "#\n",
    "# Put other path constants here\n",
    "#\n",
    "DOCUMENTS_DIR = os.path.join(MATERIALS_DIR, r\"DSS_Fall2017_Assign2\\government\\documents\")\n",
    "INDEX_DIR = os.path.join(MATERIALS_DIR, r\"DSS_Fall2017_Assign2\\government\\index1\")\n",
    "QUER_FILE = os.path.join(MATERIALS_DIR, r\"DSS_Fall2017_Assign2\\government\\topics\\gov.topics\")\n",
    "QRELS_FILE = os.path.join(MATERIALS_DIR, r\"DSS_Fall2017_Assign2\\government\\qrels\\gov.qrels\")\n",
    "OUTPUT_FILE = os.path.join(MATERIALS_DIR, r\"DSS_Fall2017_Assign2\\government\\myres\")\n",
    "TREC_EVAL = os.path.join(MATERIALS_DIR, r\"DSS_Fall2017_Assign2\\trec_eval\\trec_eval.exe\")\n",
    "INDEX_DIR2 = os.path.join(MATERIALS_DIR, r\"DSS_Fall2017_Assign2\\government\\index2\")\n",
    "OUTPUT_FILE2 = os.path.join(MATERIALS_DIR, r\"DSS_Fall2017_Assign2\\government\\myres2\")\n"
   ]
  },
  {
   "cell_type": "markdown",
   "metadata": {},
   "source": [
    "### Code for trec_eval measures - TO BE DELETED\n",
    "!$TREC_EVAL -h -m official\n"
   ]
  },
  {
   "cell_type": "markdown",
   "metadata": {},
   "source": [
    "## Question 1\n",
    "Provide your text answers in the following two markdown cells"
   ]
  },
  {
   "cell_type": "markdown",
   "metadata": {},
   "source": [
    "### Q1 (a): Provide answer to Q1 (a) here [markdown cell]\n",
    "\n",
    "\n"
   ]
  },
  {
   "cell_type": "markdown",
   "metadata": {},
   "source": [
    "### Q1 (b): Provide answer to Q1 (b) here [markdown cell]"
   ]
  },
  {
   "cell_type": "markdown",
   "metadata": {},
   "source": [
    "## Question 2"
   ]
  },
  {
   "cell_type": "markdown",
   "metadata": {},
   "source": [
    "### Q2 (a): Write your code below"
   ]
  },
  {
   "cell_type": "code",
   "execution_count": 3,
   "metadata": {},
   "outputs": [],
   "source": [
    "# Put your code for creating the index here (you can add more cells).\n",
    "# Make sure you save the final index in the variable INDEX_Q2, your query parser in QP_Q2, and your searcher in SEARCHER_Q2\n",
    "\n",
    "mySchema = Schema(file_path = ID(stored=True),\n",
    "                  file_content = TEXT(analyzer = RegexTokenizer()))\n",
    "\n",
    "if os.path.isdir(INDEX_DIR):\n",
    "    shutil.rmtree(INDEX_DIR)\n",
    "\n",
    "# create the directory for the index\n",
    "os.makedirs(INDEX_DIR)\n",
    "\n",
    "# create index\n",
    "myIndex = index.create_in(INDEX_DIR, mySchema)\n",
    "\n",
    "filesToIndex = []\n",
    "for root, dirs, files in os.walk(DOCUMENTS_DIR):\n",
    "    filePaths = [os.path.join(root, fileName) for fileName in files if not fileName.startswith('.')]\n",
    "    filesToIndex.extend(filePaths)\n"
   ]
  },
  {
   "cell_type": "code",
   "execution_count": 4,
   "metadata": {},
   "outputs": [
    {
     "name": "stdout",
     "output_type": "stream",
     "text": [
      "already indexed: 1\n",
      "already indexed: 1001\n",
      "already indexed: 2001\n",
      "already indexed: 3001\n",
      "already indexed: 4001\n",
      "done indexing.\n"
     ]
    }
   ],
   "source": [
    "\n",
    "myWriter = writing.BufferedWriter(myIndex, period=60, limit=1000)\n",
    "try:\n",
    "    # write each file to index\n",
    "    for docNum, filePath in enumerate(filesToIndex):\n",
    "        with open(filePath, \"r\", encoding=\"utf8\") as f:\n",
    "            fileContent = f.read()\n",
    "            myWriter.add_document(file_path = filePath,\n",
    "                                  file_content = fileContent)\n",
    "            \n",
    "            if (docNum % 1000 == 0):\n",
    "                print(\"already indexed:\", docNum+1)\n",
    "    print(\"done indexing.\")\n",
    "\n",
    "finally:\n",
    "    # save the index\n",
    "    INDEX_Q2 = myWriter.close()"
   ]
  },
  {
   "cell_type": "code",
   "execution_count": 5,
   "metadata": {
    "collapsed": true
   },
   "outputs": [],
   "source": [
    "QP_Q2 = QueryParser(\"file_content\", schema=myIndex.schema)\n",
    "SEARCHER_Q2 = myIndex.searcher()"
   ]
  },
  {
   "cell_type": "code",
   "execution_count": 14,
   "metadata": {
    "scrolled": true
   },
   "outputs": [
    {
     "name": "stdout",
     "output_type": "stream",
     "text": [
      "['1 mining gold silver coal', '2 juvenile delinquency', '4 wireless communications', '6 physical therapists', '7 cotton industry', '9 genealogy searches', '10 Physical Fitness', '14 Agricultural biotechnology', '16 Emergency and disaster preparedness assistance', '18 Shipwrecks', '19 Cybercrime, internet fraud, and cyber fraud', \"22 Veteran's Benefits\", '24 Air Bag Safety', '26 Nuclear power plants', '28 Early Childhood Education']\n",
      "0 1 mining gold silver coal 26.64539777117502\n",
      "0 2 juvenile delinquency 17.26213868755707\n",
      "1 2 juvenile delinquency 10.597054574626043\n",
      "2 2 juvenile delinquency 8.77864826829756\n",
      "3 2 juvenile delinquency 8.076859679154353\n",
      "4 2 juvenile delinquency 6.788751086401821\n",
      "5 2 juvenile delinquency 3.368379609499579\n",
      "0 4 wireless communications 16.44915453547273\n",
      "1 4 wireless communications 13.364613279303013\n",
      "2 4 wireless communications 12.956313628711154\n",
      "3 4 wireless communications 11.781349226871903\n",
      "4 4 wireless communications 11.367247611926537\n",
      "5 4 wireless communications 10.743957712158082\n",
      "6 4 wireless communications 10.46486548752591\n",
      "7 4 wireless communications 10.213356414484583\n",
      "8 4 wireless communications 8.392871246133646\n",
      "9 4 wireless communications 6.4315561377014046\n",
      "10 4 wireless communications 3.955775319427501\n",
      "11 4 wireless communications 2.0684375138105002\n",
      "0 6 physical therapists 13.996502415475085\n",
      "1 6 physical therapists 13.8539343648808\n",
      "2 6 physical therapists 11.345260421579761\n",
      "3 6 physical therapists 5.95590290335526\n",
      "4 6 physical therapists 5.937136717292031\n",
      "0 7 cotton industry 16.517930230476697\n",
      "1 7 cotton industry 16.234778792986308\n",
      "2 7 cotton industry 11.178928726825413\n",
      "3 7 cotton industry 6.593501924274622\n",
      "4 7 cotton industry 6.540041632878904\n",
      "5 7 cotton industry 3.6738695836131843\n",
      "6 7 cotton industry 2.91674972661347\n",
      "0 9 genealogy searches 12.268872570654011\n",
      "1 9 genealogy searches 5.1327224570039185\n",
      "0 10 Physical Fitness 21.260070632935097\n",
      "1 10 Physical Fitness 20.170493840138764\n",
      "2 10 Physical Fitness 19.31419927603964\n",
      "3 10 Physical Fitness 19.23122020326181\n",
      "4 10 Physical Fitness 17.956801865116404\n",
      "5 10 Physical Fitness 17.331525036018306\n",
      "6 10 Physical Fitness 16.839847413930336\n",
      "7 10 Physical Fitness 15.970702542812408\n",
      "8 10 Physical Fitness 15.254768205804602\n",
      "9 10 Physical Fitness 13.962221621185792\n",
      "10 10 Physical Fitness 13.471600723190269\n",
      "11 10 Physical Fitness 7.933353245861812\n",
      "12 10 Physical Fitness 4.187382958714763\n",
      "13 10 Physical Fitness 4.078392653398088\n",
      "14 10 Physical Fitness 3.8690191481098157\n",
      "15 10 Physical Fitness 3.2261499575397155\n",
      "0 14 Agricultural biotechnology 16.017276887886855\n",
      "1 14 Agricultural biotechnology 15.942972766466898\n",
      "2 14 Agricultural biotechnology 15.640292921668705\n",
      "3 14 Agricultural biotechnology 15.377247319282251\n",
      "4 14 Agricultural biotechnology 8.188481344826137\n",
      "5 14 Agricultural biotechnology 3.239980601052612\n",
      "6 14 Agricultural biotechnology 1.544028703546812\n",
      "0 16 Emergency and disaster preparedness assistance 34.092075576251\n",
      "1 16 Emergency and disaster preparedness assistance 32.195485675325315\n",
      "2 16 Emergency and disaster preparedness assistance 27.13176387951665\n",
      "3 16 Emergency and disaster preparedness assistance 26.574622331662233\n",
      "4 16 Emergency and disaster preparedness assistance 21.813916494265353\n",
      "5 16 Emergency and disaster preparedness assistance 10.948532555349608\n",
      "6 16 Emergency and disaster preparedness assistance 10.008862397603384\n",
      "0 18 Shipwrecks 11.989904787792897\n",
      "1 18 Shipwrecks 9.032380321265611\n",
      "2 18 Shipwrecks 9.032380321265611\n",
      "3 18 Shipwrecks 8.906919342450095\n",
      "4 18 Shipwrecks 8.850182315992956\n",
      "5 18 Shipwrecks 8.850182315992956\n",
      "6 18 Shipwrecks 8.657170860906144\n",
      "7 18 Shipwrecks 8.524380768716991\n",
      "8 18 Shipwrecks 8.524380768716991\n",
      "9 18 Shipwrecks 8.101855123719446\n",
      "10 18 Shipwrecks 8.031602143375721\n",
      "11 18 Shipwrecks 7.397293502138806\n",
      "12 18 Shipwrecks 6.712312620970865\n",
      "13 18 Shipwrecks 6.44754064083282\n",
      "14 18 Shipwrecks 5.539264984813576\n",
      "15 18 Shipwrecks 4.723243796102263\n",
      "16 18 Shipwrecks 2.4758944589490413\n",
      "0 22 Veteran's Benefits 17.40927783248638\n",
      "1 22 Veteran's Benefits 17.290034855166777\n",
      "2 22 Veteran's Benefits 16.67545196783105\n",
      "3 22 Veteran's Benefits 16.591891279892472\n",
      "4 22 Veteran's Benefits 16.518430023281965\n",
      "5 22 Veteran's Benefits 16.22994927513714\n",
      "6 22 Veteran's Benefits 15.98909039330492\n",
      "7 22 Veteran's Benefits 15.621369978534496\n",
      "8 22 Veteran's Benefits 15.31478536581752\n",
      "9 22 Veteran's Benefits 15.31153195942489\n",
      "10 22 Veteran's Benefits 14.974365386585994\n",
      "11 22 Veteran's Benefits 14.973564027390243\n",
      "12 22 Veteran's Benefits 14.900864584226042\n",
      "13 22 Veteran's Benefits 13.5820832387652\n",
      "14 22 Veteran's Benefits 13.293954168556283\n",
      "15 22 Veteran's Benefits 7.640469526468435\n",
      "16 22 Veteran's Benefits 6.675688128574632\n",
      "0 24 Air Bag Safety 26.070860545814824\n",
      "1 24 Air Bag Safety 25.172137442360075\n",
      "2 24 Air Bag Safety 20.616027360801365\n",
      "3 24 Air Bag Safety 19.77741343760403\n",
      "4 24 Air Bag Safety 18.490510392066042\n",
      "5 24 Air Bag Safety 14.345293837965766\n",
      "6 24 Air Bag Safety 9.755678846557045\n",
      "0 26 Nuclear power plants 25.225053039364408\n",
      "1 26 Nuclear power plants 23.81491169431002\n",
      "2 26 Nuclear power plants 22.68119296675024\n",
      "3 26 Nuclear power plants 22.63945473271112\n",
      "4 26 Nuclear power plants 22.506205683698916\n",
      "5 26 Nuclear power plants 22.47046419505389\n",
      "6 26 Nuclear power plants 22.048297799328346\n",
      "7 26 Nuclear power plants 21.748459733574226\n",
      "8 26 Nuclear power plants 21.45152855821343\n",
      "9 26 Nuclear power plants 21.2955015411169\n",
      "10 26 Nuclear power plants 20.813328468698117\n",
      "11 26 Nuclear power plants 20.70703602312906\n",
      "12 26 Nuclear power plants 20.420554674771026\n",
      "13 26 Nuclear power plants 20.20062699479784\n",
      "14 26 Nuclear power plants 19.836717531240446\n",
      "15 26 Nuclear power plants 19.228167889786267\n",
      "16 26 Nuclear power plants 18.457268338746307\n",
      "17 26 Nuclear power plants 18.41671540359333\n",
      "18 26 Nuclear power plants 17.38584202182359\n",
      "19 26 Nuclear power plants 17.310834637318695\n",
      "20 26 Nuclear power plants 10.3206474418388\n",
      "21 26 Nuclear power plants 9.982900556685863\n",
      "22 26 Nuclear power plants 9.038117891540518\n",
      "23 26 Nuclear power plants 8.165410881022165\n",
      "24 26 Nuclear power plants 6.67295315159251\n",
      "0 28 Early Childhood Education 24.505669484474577\n",
      "1 28 Early Childhood Education 21.152985613082592\n",
      "2 28 Early Childhood Education 20.492992401981702\n",
      "3 28 Early Childhood Education 20.139545266992123\n",
      "4 28 Early Childhood Education 19.988408410778327\n",
      "5 28 Early Childhood Education 19.96065237788488\n",
      "6 28 Early Childhood Education 19.96065237788488\n",
      "7 28 Early Childhood Education 19.96065237788488\n",
      "8 28 Early Childhood Education 19.848212509177156\n",
      "9 28 Early Childhood Education 19.793503966440316\n",
      "10 28 Early Childhood Education 19.3188594060358\n",
      "11 28 Early Childhood Education 19.244841496114134\n",
      "12 28 Early Childhood Education 19.031552270465305\n",
      "13 28 Early Childhood Education 18.80822706005531\n",
      "14 28 Early Childhood Education 18.558858464045002\n",
      "15 28 Early Childhood Education 18.217312863267484\n",
      "16 28 Early Childhood Education 17.101565082467438\n",
      "17 28 Early Childhood Education 16.71374741412056\n",
      "18 28 Early Childhood Education 13.352770387844203\n",
      "19 28 Early Childhood Education 12.296383589803305\n",
      "20 28 Early Childhood Education 11.960487737698525\n",
      "21 28 Early Childhood Education 11.365611520580897\n"
     ]
    }
   ],
   "source": [
    "# Load topic file - a list of topics(search phrases) used for evalutation\n",
    "topicsFile = open(QUER_FILE,\"r\")\n",
    "topics = topicsFile.read().splitlines()\n",
    "print(topics)\n",
    "\n",
    "# create an output file to which we'll write our results\n",
    "outputTRECFile = open(OUTPUT_FILE, \"w\")\n",
    "\n",
    "# for each evaluated topic:\n",
    "# build a query and record the results in the file in TREC_EVAL format\n",
    "for topic in topics:\n",
    "    topic_id, topic_phrase = tuple(topic.split(\" \", 1))\n",
    "    topicQuery = QP_Q2.parse(topic_phrase)\n",
    "    topicResults = SEARCHER_Q2.search(topicQuery, limit=None)\n",
    "    for (docnum, result) in enumerate(topicResults):\n",
    "        score = topicResults.score(docnum)\n",
    "        #print(docnum, topic, score)\n",
    "        outputTRECFile.write(\"%s Q0 %s %d %lf test\\n\" % (topic_id, os.path.basename(result[\"file_path\"]), docnum, score))\n",
    "\n",
    "# close the topic and results file\n",
    "outputTRECFile.close()\n",
    "topicsFile.close()"
   ]
  },
  {
   "cell_type": "code",
   "execution_count": 16,
   "metadata": {
    "scrolled": true
   },
   "outputs": [
    {
     "name": "stdout",
     "output_type": "stream",
     "text": [
      "num_ret               \t1\t1\n",
      "num_rel               \t1\t5\n",
      "num_rel_ret           \t1\t0\n",
      "map                   \t1\t0.0000\n",
      "Rprec                 \t1\t0.0000\n",
      "bpref                 \t1\t0.0000\n",
      "recip_rank            \t1\t0.0000\n",
      "iprec_at_recall_0.00  \t1\t0.0000\n",
      "iprec_at_recall_0.10  \t1\t0.0000\n",
      "iprec_at_recall_0.20  \t1\t0.0000\n",
      "iprec_at_recall_0.30  \t1\t0.0000\n",
      "iprec_at_recall_0.40  \t1\t0.0000\n",
      "iprec_at_recall_0.50  \t1\t0.0000\n",
      "iprec_at_recall_0.60  \t1\t0.0000\n",
      "iprec_at_recall_0.70  \t1\t0.0000\n",
      "iprec_at_recall_0.80  \t1\t0.0000\n",
      "iprec_at_recall_0.90  \t1\t0.0000\n",
      "iprec_at_recall_1.00  \t1\t0.0000\n",
      "P_5                   \t1\t0.0000\n",
      "P_10                  \t1\t0.0000\n",
      "P_15                  \t1\t0.0000\n",
      "P_20                  \t1\t0.0000\n",
      "P_30                  \t1\t0.0000\n",
      "P_100                 \t1\t0.0000\n",
      "P_200                 \t1\t0.0000\n",
      "P_500                 \t1\t0.0000\n",
      "P_1000                \t1\t0.0000\n",
      "num_ret               \t10\t16\n",
      "num_rel               \t10\t1\n",
      "num_rel_ret           \t10\t1\n",
      "map                   \t10\t0.1667\n",
      "Rprec                 \t10\t0.0000\n",
      "bpref                 \t10\t0.0000\n",
      "recip_rank            \t10\t0.1667\n",
      "iprec_at_recall_0.00  \t10\t0.1667\n",
      "iprec_at_recall_0.10  \t10\t0.1667\n",
      "iprec_at_recall_0.20  \t10\t0.1667\n",
      "iprec_at_recall_0.30  \t10\t0.1667\n",
      "iprec_at_recall_0.40  \t10\t0.1667\n",
      "iprec_at_recall_0.50  \t10\t0.1667\n",
      "iprec_at_recall_0.60  \t10\t0.1667\n",
      "iprec_at_recall_0.70  \t10\t0.1667\n",
      "iprec_at_recall_0.80  \t10\t0.1667\n",
      "iprec_at_recall_0.90  \t10\t0.1667\n",
      "iprec_at_recall_1.00  \t10\t0.1667\n",
      "P_5                   \t10\t0.0000\n",
      "P_10                  \t10\t0.1000\n",
      "P_15                  \t10\t0.0667\n",
      "P_20                  \t10\t0.0500\n",
      "P_30                  \t10\t0.0333\n",
      "P_100                 \t10\t0.0100\n",
      "P_200                 \t10\t0.0050\n",
      "P_500                 \t10\t0.0020\n",
      "P_1000                \t10\t0.0010\n",
      "num_ret               \t14\t7\n",
      "num_rel               \t14\t1\n",
      "num_rel_ret           \t14\t1\n",
      "map                   \t14\t0.2500\n",
      "Rprec                 \t14\t0.0000\n",
      "bpref                 \t14\t0.0000\n",
      "recip_rank            \t14\t0.2500\n",
      "iprec_at_recall_0.00  \t14\t0.2500\n",
      "iprec_at_recall_0.10  \t14\t0.2500\n",
      "iprec_at_recall_0.20  \t14\t0.2500\n",
      "iprec_at_recall_0.30  \t14\t0.2500\n",
      "iprec_at_recall_0.40  \t14\t0.2500\n",
      "iprec_at_recall_0.50  \t14\t0.2500\n",
      "iprec_at_recall_0.60  \t14\t0.2500\n",
      "iprec_at_recall_0.70  \t14\t0.2500\n",
      "iprec_at_recall_0.80  \t14\t0.2500\n",
      "iprec_at_recall_0.90  \t14\t0.2500\n",
      "iprec_at_recall_1.00  \t14\t0.2500\n",
      "P_5                   \t14\t0.2000\n",
      "P_10                  \t14\t0.1000\n",
      "P_15                  \t14\t0.0667\n",
      "P_20                  \t14\t0.0500\n",
      "P_30                  \t14\t0.0333\n",
      "P_100                 \t14\t0.0100\n",
      "P_200                 \t14\t0.0050\n",
      "P_500                 \t14\t0.0020\n",
      "P_1000                \t14\t0.0010\n",
      "num_ret               \t16\t7\n",
      "num_rel               \t16\t7\n",
      "num_rel_ret           \t16\t0\n",
      "map                   \t16\t0.0000\n",
      "Rprec                 \t16\t0.0000\n",
      "bpref                 \t16\t0.0000\n",
      "recip_rank            \t16\t0.0000\n",
      "iprec_at_recall_0.00  \t16\t0.0000\n",
      "iprec_at_recall_0.10  \t16\t0.0000\n",
      "iprec_at_recall_0.20  \t16\t0.0000\n",
      "iprec_at_recall_0.30  \t16\t0.0000\n",
      "iprec_at_recall_0.40  \t16\t0.0000\n",
      "iprec_at_recall_0.50  \t16\t0.0000\n",
      "iprec_at_recall_0.60  \t16\t0.0000\n",
      "iprec_at_recall_0.70  \t16\t0.0000\n",
      "iprec_at_recall_0.80  \t16\t0.0000\n",
      "iprec_at_recall_0.90  \t16\t0.0000\n",
      "iprec_at_recall_1.00  \t16\t0.0000\n",
      "P_5                   \t16\t0.0000\n",
      "P_10                  \t16\t0.0000\n",
      "P_15                  \t16\t0.0000\n",
      "P_20                  \t16\t0.0000\n",
      "P_30                  \t16\t0.0000\n",
      "P_100                 \t16\t0.0000\n",
      "P_200                 \t16\t0.0000\n",
      "P_500                 \t16\t0.0000\n",
      "P_1000                \t16\t0.0000\n",
      "num_ret               \t18\t17\n",
      "num_rel               \t18\t1\n",
      "num_rel_ret           \t18\t1\n",
      "map                   \t18\t1.0000\n",
      "Rprec                 \t18\t1.0000\n",
      "bpref                 \t18\t1.0000\n",
      "recip_rank            \t18\t1.0000\n",
      "iprec_at_recall_0.00  \t18\t1.0000\n",
      "iprec_at_recall_0.10  \t18\t1.0000\n",
      "iprec_at_recall_0.20  \t18\t1.0000\n",
      "iprec_at_recall_0.30  \t18\t1.0000\n",
      "iprec_at_recall_0.40  \t18\t1.0000\n",
      "iprec_at_recall_0.50  \t18\t1.0000\n",
      "iprec_at_recall_0.60  \t18\t1.0000\n",
      "iprec_at_recall_0.70  \t18\t1.0000\n",
      "iprec_at_recall_0.80  \t18\t1.0000\n",
      "iprec_at_recall_0.90  \t18\t1.0000\n",
      "iprec_at_recall_1.00  \t18\t1.0000\n",
      "P_5                   \t18\t0.2000\n",
      "P_10                  \t18\t0.1000\n",
      "P_15                  \t18\t0.0667\n",
      "P_20                  \t18\t0.0500\n",
      "P_30                  \t18\t0.0333\n",
      "P_100                 \t18\t0.0100\n",
      "P_200                 \t18\t0.0050\n",
      "P_500                 \t18\t0.0020\n",
      "P_1000                \t18\t0.0010\n",
      "num_ret               \t2\t6\n",
      "num_rel               \t2\t2\n",
      "num_rel_ret           \t2\t0\n",
      "map                   \t2\t0.0000\n",
      "Rprec                 \t2\t0.0000\n",
      "bpref                 \t2\t0.0000\n",
      "recip_rank            \t2\t0.0000\n",
      "iprec_at_recall_0.00  \t2\t0.0000\n",
      "iprec_at_recall_0.10  \t2\t0.0000\n",
      "iprec_at_recall_0.20  \t2\t0.0000\n",
      "iprec_at_recall_0.30  \t2\t0.0000\n",
      "iprec_at_recall_0.40  \t2\t0.0000\n",
      "iprec_at_recall_0.50  \t2\t0.0000\n",
      "iprec_at_recall_0.60  \t2\t0.0000\n",
      "iprec_at_recall_0.70  \t2\t0.0000\n",
      "iprec_at_recall_0.80  \t2\t0.0000\n",
      "iprec_at_recall_0.90  \t2\t0.0000\n",
      "iprec_at_recall_1.00  \t2\t0.0000\n",
      "P_5                   \t2\t0.0000\n",
      "P_10                  \t2\t0.0000\n",
      "P_15                  \t2\t0.0000\n",
      "P_20                  \t2\t0.0000\n",
      "P_30                  \t2\t0.0000\n",
      "P_100                 \t2\t0.0000\n",
      "P_200                 \t2\t0.0000\n",
      "P_500                 \t2\t0.0000\n",
      "P_1000                \t2\t0.0000\n",
      "num_ret               \t22\t17\n",
      "num_rel               \t22\t1\n",
      "num_rel_ret           \t22\t1\n",
      "map                   \t22\t0.2000\n",
      "Rprec                 \t22\t0.0000\n",
      "bpref                 \t22\t0.0000\n",
      "recip_rank            \t22\t0.2000\n",
      "iprec_at_recall_0.00  \t22\t0.2000\n",
      "iprec_at_recall_0.10  \t22\t0.2000\n",
      "iprec_at_recall_0.20  \t22\t0.2000\n",
      "iprec_at_recall_0.30  \t22\t0.2000\n",
      "iprec_at_recall_0.40  \t22\t0.2000\n",
      "iprec_at_recall_0.50  \t22\t0.2000\n",
      "iprec_at_recall_0.60  \t22\t0.2000\n",
      "iprec_at_recall_0.70  \t22\t0.2000\n",
      "iprec_at_recall_0.80  \t22\t0.2000\n",
      "iprec_at_recall_0.90  \t22\t0.2000\n",
      "iprec_at_recall_1.00  \t22\t0.2000\n",
      "P_5                   \t22\t0.2000\n",
      "P_10                  \t22\t0.1000\n",
      "P_15                  \t22\t0.0667\n",
      "P_20                  \t22\t0.0500\n",
      "P_30                  \t22\t0.0333\n",
      "P_100                 \t22\t0.0100\n",
      "P_200                 \t22\t0.0050\n",
      "P_500                 \t22\t0.0020\n",
      "P_1000                \t22\t0.0010\n",
      "num_ret               \t24\t7\n",
      "num_rel               \t24\t1\n",
      "num_rel_ret           \t24\t1\n",
      "map                   \t24\t1.0000\n",
      "Rprec                 \t24\t1.0000\n",
      "bpref                 \t24\t1.0000\n",
      "recip_rank            \t24\t1.0000\n",
      "iprec_at_recall_0.00  \t24\t1.0000\n",
      "iprec_at_recall_0.10  \t24\t1.0000\n",
      "iprec_at_recall_0.20  \t24\t1.0000\n",
      "iprec_at_recall_0.30  \t24\t1.0000\n",
      "iprec_at_recall_0.40  \t24\t1.0000\n",
      "iprec_at_recall_0.50  \t24\t1.0000\n",
      "iprec_at_recall_0.60  \t24\t1.0000\n",
      "iprec_at_recall_0.70  \t24\t1.0000\n",
      "iprec_at_recall_0.80  \t24\t1.0000\n",
      "iprec_at_recall_0.90  \t24\t1.0000\n",
      "iprec_at_recall_1.00  \t24\t1.0000\n",
      "P_5                   \t24\t0.2000\n",
      "P_10                  \t24\t0.1000\n",
      "P_15                  \t24\t0.0667\n",
      "P_20                  \t24\t0.0500\n",
      "P_30                  \t24\t0.0333\n",
      "P_100                 \t24\t0.0100\n",
      "P_200                 \t24\t0.0050\n",
      "P_500                 \t24\t0.0020\n",
      "P_1000                \t24\t0.0010\n",
      "num_ret               \t26\t25\n",
      "num_rel               \t26\t3\n",
      "num_rel_ret           \t26\t1\n",
      "map                   \t26\t0.1111\n",
      "Rprec                 \t26\t0.3333\n",
      "bpref                 \t26\t0.1111\n",
      "recip_rank            \t26\t0.3333\n",
      "iprec_at_recall_0.00  \t26\t0.3333\n",
      "iprec_at_recall_0.10  \t26\t0.3333\n",
      "iprec_at_recall_0.20  \t26\t0.3333\n",
      "iprec_at_recall_0.30  \t26\t0.3333\n",
      "iprec_at_recall_0.40  \t26\t0.0000\n",
      "iprec_at_recall_0.50  \t26\t0.0000\n",
      "iprec_at_recall_0.60  \t26\t0.0000\n",
      "iprec_at_recall_0.70  \t26\t0.0000\n",
      "iprec_at_recall_0.80  \t26\t0.0000\n",
      "iprec_at_recall_0.90  \t26\t0.0000\n",
      "iprec_at_recall_1.00  \t26\t0.0000\n",
      "P_5                   \t26\t0.2000\n",
      "P_10                  \t26\t0.1000\n",
      "P_15                  \t26\t0.0667\n",
      "P_20                  \t26\t0.0500\n",
      "P_30                  \t26\t0.0333\n",
      "P_100                 \t26\t0.0100\n",
      "P_200                 \t26\t0.0050\n",
      "P_500                 \t26\t0.0020\n",
      "P_1000                \t26\t0.0010\n",
      "num_ret               \t28\t22\n",
      "num_rel               \t28\t2\n",
      "num_rel_ret           \t28\t0\n",
      "map                   \t28\t0.0000\n",
      "Rprec                 \t28\t0.0000\n",
      "bpref                 \t28\t0.0000\n",
      "recip_rank            \t28\t0.0000\n",
      "iprec_at_recall_0.00  \t28\t0.0000\n",
      "iprec_at_recall_0.10  \t28\t0.0000\n",
      "iprec_at_recall_0.20  \t28\t0.0000\n",
      "iprec_at_recall_0.30  \t28\t0.0000\n",
      "iprec_at_recall_0.40  \t28\t0.0000\n",
      "iprec_at_recall_0.50  \t28\t0.0000\n",
      "iprec_at_recall_0.60  \t28\t0.0000\n",
      "iprec_at_recall_0.70  \t28\t0.0000\n",
      "iprec_at_recall_0.80  \t28\t0.0000\n",
      "iprec_at_recall_0.90  \t28\t0.0000\n",
      "iprec_at_recall_1.00  \t28\t0.0000\n",
      "P_5                   \t28\t0.0000\n",
      "P_10                  \t28\t0.0000\n",
      "P_15                  \t28\t0.0000\n",
      "P_20                  \t28\t0.0000\n",
      "P_30                  \t28\t0.0000\n",
      "P_100                 \t28\t0.0000\n",
      "P_200                 \t28\t0.0000\n",
      "P_500                 \t28\t0.0000\n",
      "P_1000                \t28\t0.0000\n",
      "num_ret               \t4\t12\n",
      "num_rel               \t4\t4\n",
      "num_rel_ret           \t4\t1\n",
      "map                   \t4\t0.0312\n",
      "Rprec                 \t4\t0.0000\n",
      "bpref                 \t4\t0.0000\n",
      "recip_rank            \t4\t0.1250\n",
      "iprec_at_recall_0.00  \t4\t0.1250\n",
      "iprec_at_recall_0.10  \t4\t0.1250\n",
      "iprec_at_recall_0.20  \t4\t0.1250\n",
      "iprec_at_recall_0.30  \t4\t0.0000\n",
      "iprec_at_recall_0.40  \t4\t0.0000\n",
      "iprec_at_recall_0.50  \t4\t0.0000\n",
      "iprec_at_recall_0.60  \t4\t0.0000\n",
      "iprec_at_recall_0.70  \t4\t0.0000\n",
      "iprec_at_recall_0.80  \t4\t0.0000\n",
      "iprec_at_recall_0.90  \t4\t0.0000\n",
      "iprec_at_recall_1.00  \t4\t0.0000\n",
      "P_5                   \t4\t0.0000\n",
      "P_10                  \t4\t0.1000\n",
      "P_15                  \t4\t0.0667\n",
      "P_20                  \t4\t0.0500\n",
      "P_30                  \t4\t0.0333\n",
      "P_100                 \t4\t0.0100\n",
      "P_200                 \t4\t0.0050\n",
      "P_500                 \t4\t0.0020\n",
      "P_1000                \t4\t0.0010\n",
      "num_ret               \t6\t5\n",
      "num_rel               \t6\t1\n",
      "num_rel_ret           \t6\t0\n",
      "map                   \t6\t0.0000\n",
      "Rprec                 \t6\t0.0000\n",
      "bpref                 \t6\t0.0000\n",
      "recip_rank            \t6\t0.0000\n",
      "iprec_at_recall_0.00  \t6\t0.0000\n",
      "iprec_at_recall_0.10  \t6\t0.0000\n",
      "iprec_at_recall_0.20  \t6\t0.0000\n",
      "iprec_at_recall_0.30  \t6\t0.0000\n",
      "iprec_at_recall_0.40  \t6\t0.0000\n",
      "iprec_at_recall_0.50  \t6\t0.0000\n",
      "iprec_at_recall_0.60  \t6\t0.0000\n",
      "iprec_at_recall_0.70  \t6\t0.0000\n",
      "iprec_at_recall_0.80  \t6\t0.0000\n",
      "iprec_at_recall_0.90  \t6\t0.0000\n",
      "iprec_at_recall_1.00  \t6\t0.0000\n",
      "P_5                   \t6\t0.0000\n",
      "P_10                  \t6\t0.0000\n",
      "P_15                  \t6\t0.0000\n",
      "P_20                  \t6\t0.0000\n",
      "P_30                  \t6\t0.0000\n",
      "P_100                 \t6\t0.0000\n",
      "P_200                 \t6\t0.0000\n",
      "P_500                 \t6\t0.0000\n",
      "P_1000                \t6\t0.0000\n",
      "num_ret               \t7\t7\n",
      "num_rel               \t7\t3\n",
      "num_rel_ret           \t7\t0\n",
      "map                   \t7\t0.0000\n",
      "Rprec                 \t7\t0.0000\n",
      "bpref                 \t7\t0.0000\n",
      "recip_rank            \t7\t0.0000\n",
      "iprec_at_recall_0.00  \t7\t0.0000\n",
      "iprec_at_recall_0.10  \t7\t0.0000\n",
      "iprec_at_recall_0.20  \t7\t0.0000\n",
      "iprec_at_recall_0.30  \t7\t0.0000\n",
      "iprec_at_recall_0.40  \t7\t0.0000\n",
      "iprec_at_recall_0.50  \t7\t0.0000\n",
      "iprec_at_recall_0.60  \t7\t0.0000\n",
      "iprec_at_recall_0.70  \t7\t0.0000\n",
      "iprec_at_recall_0.80  \t7\t0.0000\n",
      "iprec_at_recall_0.90  \t7\t0.0000\n",
      "iprec_at_recall_1.00  \t7\t0.0000\n",
      "P_5                   \t7\t0.0000\n",
      "P_10                  \t7\t0.0000\n",
      "P_15                  \t7\t0.0000\n",
      "P_20                  \t7\t0.0000\n",
      "P_30                  \t7\t0.0000\n",
      "P_100                 \t7\t0.0000\n",
      "P_200                 \t7\t0.0000\n",
      "P_500                 \t7\t0.0000\n",
      "P_1000                \t7\t0.0000\n",
      "num_ret               \t9\t2\n",
      "num_rel               \t9\t1\n",
      "num_rel_ret           \t9\t0\n",
      "map                   \t9\t0.0000\n",
      "Rprec                 \t9\t0.0000\n",
      "bpref                 \t9\t0.0000\n",
      "recip_rank            \t9\t0.0000\n",
      "iprec_at_recall_0.00  \t9\t0.0000\n",
      "iprec_at_recall_0.10  \t9\t0.0000\n",
      "iprec_at_recall_0.20  \t9\t0.0000\n",
      "iprec_at_recall_0.30  \t9\t0.0000\n",
      "iprec_at_recall_0.40  \t9\t0.0000\n",
      "iprec_at_recall_0.50  \t9\t0.0000\n",
      "iprec_at_recall_0.60  \t9\t0.0000\n",
      "iprec_at_recall_0.70  \t9\t0.0000\n",
      "iprec_at_recall_0.80  \t9\t0.0000\n",
      "iprec_at_recall_0.90  \t9\t0.0000\n",
      "iprec_at_recall_1.00  \t9\t0.0000\n",
      "P_5                   \t9\t0.0000\n",
      "P_10                  \t9\t0.0000\n",
      "P_15                  \t9\t0.0000\n",
      "P_20                  \t9\t0.0000\n",
      "P_30                  \t9\t0.0000\n",
      "P_100                 \t9\t0.0000\n",
      "P_200                 \t9\t0.0000\n",
      "P_500                 \t9\t0.0000\n",
      "P_1000                \t9\t0.0000\n",
      "runid                 \tall\ttest\n",
      "num_q                 \tall\t14\n",
      "num_ret               \tall\t151\n",
      "num_rel               \tall\t33\n",
      "num_rel_ret           \tall\t7\n",
      "map                   \tall\t0.1971\n",
      "gm_map                \tall\t0.0015\n",
      "Rprec                 \tall\t0.1667\n",
      "bpref                 \tall\t0.1508\n",
      "recip_rank            \tall\t0.2196\n",
      "iprec_at_recall_0.00  \tall\t0.2196\n",
      "iprec_at_recall_0.10  \tall\t0.2196\n",
      "iprec_at_recall_0.20  \tall\t0.2196\n",
      "iprec_at_recall_0.30  \tall\t0.2107\n",
      "iprec_at_recall_0.40  \tall\t0.1869\n",
      "iprec_at_recall_0.50  \tall\t0.1869\n",
      "iprec_at_recall_0.60  \tall\t0.1869\n",
      "iprec_at_recall_0.70  \tall\t0.1869\n",
      "iprec_at_recall_0.80  \tall\t0.1869\n",
      "iprec_at_recall_0.90  \tall\t0.1869\n",
      "iprec_at_recall_1.00  \tall\t0.1869\n",
      "P_5                   \tall\t0.0714\n",
      "P_10                  \tall\t0.0500\n",
      "P_15                  \tall\t0.0333\n",
      "P_20                  \tall\t0.0250\n",
      "P_30                  \tall\t0.0167\n",
      "P_100                 \tall\t0.0050\n",
      "P_200                 \tall\t0.0025\n",
      "P_500                 \tall\t0.0010\n",
      "P_1000                \tall\t0.0005\n"
     ]
    }
   ],
   "source": [
    "!$TREC_EVAL -q $QRELS_FILE $OUTPUT_FILE"
   ]
  },
  {
   "cell_type": "code",
   "execution_count": null,
   "metadata": {
    "collapsed": true
   },
   "outputs": [],
   "source": [
    "#INDEX_Q2 = None # Replace None with your index for Q2\n",
    "#QP_Q2 = None # Replace None with your query parser for Q2\n",
    "#SEARCHER_Q2 = None # Replace None with your searcher for Q2"
   ]
  },
  {
   "cell_type": "markdown",
   "metadata": {},
   "source": [
    "### Q2 (b): Provide answer to Q2 (b) here [markdown cell]\n",
    "\n",
    "For recip_rank the average score was"
   ]
  },
  {
   "cell_type": "markdown",
   "metadata": {},
   "source": [
    "### Q2 (c): Provide answer to Q2(c) here [markdown cell]"
   ]
  },
  {
   "cell_type": "markdown",
   "metadata": {},
   "source": [
    "## Question 3"
   ]
  },
  {
   "cell_type": "markdown",
   "metadata": {},
   "source": [
    "### Q3 (a): Provide answer to Q3 (a) here [markdown cell]"
   ]
  },
  {
   "cell_type": "markdown",
   "metadata": {},
   "source": [
    "### Q3 (b): Write your code below"
   ]
  },
  {
   "cell_type": "code",
   "execution_count": null,
   "metadata": {
    "collapsed": true
   },
   "outputs": [],
   "source": [
    "# Put your code for creating the index here (you can add more cells).\n",
    "# Make sure you save the final index in the variable INDEX_Q3, your query parser in QP_Q3, and your searcher in SEARCHER_Q3"
   ]
  },
  {
   "cell_type": "code",
   "execution_count": null,
   "metadata": {
    "collapsed": true
   },
   "outputs": [],
   "source": [
    "INDEX_Q3 = None # Replace None with your index for Q3\n",
    "QP_Q3 = None # Replace None with your query parser for Q3\n",
    "SEARCHER_Q3 = None # Replace None with your searcher for Q3"
   ]
  },
  {
   "cell_type": "markdown",
   "metadata": {},
   "source": [
    "### Q3 (c): Provide answer to Q3 (c) here [markdown cell]"
   ]
  },
  {
   "cell_type": "markdown",
   "metadata": {},
   "source": [
    "### Q3 (d): Provide answer to Q3 (d) here [markdown cell]"
   ]
  },
  {
   "cell_type": "markdown",
   "metadata": {},
   "source": [
    "### Q3 (e): Provide answer to Q3 (e) here [markdown cell]"
   ]
  },
  {
   "cell_type": "markdown",
   "metadata": {},
   "source": [
    "### Q3 (f): Provide answer to Q3 (f) here [markdown cell]"
   ]
  },
  {
   "cell_type": "markdown",
   "metadata": {},
   "source": [
    "## Question 4 (Graduate Students)"
   ]
  },
  {
   "cell_type": "code",
   "execution_count": null,
   "metadata": {
    "collapsed": true
   },
   "outputs": [],
   "source": [
    "GRAD_STUDENT = False # change to True if you are a grad student"
   ]
  },
  {
   "cell_type": "markdown",
   "metadata": {},
   "source": [
    "### Q4 (a): Provide answer to Q4 (a) here [markdown cell]"
   ]
  },
  {
   "cell_type": "markdown",
   "metadata": {},
   "source": [
    "### Q4 (b): Write your code below"
   ]
  },
  {
   "cell_type": "code",
   "execution_count": null,
   "metadata": {
    "collapsed": true
   },
   "outputs": [],
   "source": [
    "# Put your code for creating the index here (you can add more cells).\n",
    "# Make sure you save the final index in the variable INDEX_Q4, your query parser in QP_Q4, and your searcher in SEARCHER_Q4"
   ]
  },
  {
   "cell_type": "code",
   "execution_count": null,
   "metadata": {
    "collapsed": true
   },
   "outputs": [],
   "source": [
    "INDEX_Q4 = None # Replace None with your index for Q4\n",
    "QP_Q4 = None # Replace None with your query parser for Q4\n",
    "SEARCHER_Q4 = None # Replace None with your searcher for Q4"
   ]
  },
  {
   "cell_type": "markdown",
   "metadata": {},
   "source": [
    "### Q4 (c): Provide answer to Q4 (a) here [markdown cell]"
   ]
  },
  {
   "cell_type": "markdown",
   "metadata": {},
   "source": [
    "### Q4 (d): Provide answer to Q4 (a) here [markdown cell]"
   ]
  },
  {
   "cell_type": "markdown",
   "metadata": {},
   "source": [
    "### Q4 (e): Provide answer to Q4 (a) here [markdown cell]"
   ]
  },
  {
   "cell_type": "markdown",
   "metadata": {},
   "source": [
    "### Q4 (f): Provide answer to Q4 (a) here [markdown cell]"
   ]
  },
  {
   "cell_type": "markdown",
   "metadata": {},
   "source": [
    "## Validation"
   ]
  },
  {
   "cell_type": "code",
   "execution_count": null,
   "metadata": {
    "collapsed": true
   },
   "outputs": [],
   "source": [
    "# Run the following cells to make sure your code returns the correct value types"
   ]
  },
  {
   "cell_type": "code",
   "execution_count": null,
   "metadata": {
    "collapsed": true
   },
   "outputs": [],
   "source": [
    "from whoosh.index import FileIndex\n",
    "from whoosh.qparser import QueryParser\n",
    "from whoosh.searching import Searcher\n",
    "import os.path"
   ]
  },
  {
   "cell_type": "markdown",
   "metadata": {},
   "source": [
    "### Path Validation"
   ]
  },
  {
   "cell_type": "code",
   "execution_count": null,
   "metadata": {
    "collapsed": true
   },
   "outputs": [],
   "source": [
    "assert \"MATERIALS_DIR\" in globals(), \"variable MATERIALS_DIR does not exists\"\n",
    "assert(os.path.isdir(os.path.join(MATERIALS_DIR))), \"MATERIALS_DIR folder does not exists\"\n",
    "assert(os.path.isdir(os.path.join(MATERIALS_DIR, r\"DSS_Fall2017_Assign2\"))), \"invalid folder structure\"\n",
    "assert(os.path.isdir(os.path.join(MATERIALS_DIR, r\"DSS_Fall2017_Assign2\\government\\documents\"))), \"invalid folder structure\"\n",
    "print(\"Paths validated\")"
   ]
  },
  {
   "cell_type": "markdown",
   "metadata": {},
   "source": [
    "### Q2 Validation"
   ]
  },
  {
   "cell_type": "code",
   "execution_count": null,
   "metadata": {
    "collapsed": true
   },
   "outputs": [],
   "source": [
    "assert(isinstance(INDEX_Q2, FileIndex)), \"Index Type\"\n",
    "assert(isinstance(QP_Q2, QueryParser)), \"Query Parser Type\"\n",
    "assert(isinstance(SEARCHER_Q2, Searcher)), \"Searcher Type\"\n",
    "print(\"Q2 Types Validated\")"
   ]
  },
  {
   "cell_type": "markdown",
   "metadata": {},
   "source": [
    "### Q3 Validation"
   ]
  },
  {
   "cell_type": "code",
   "execution_count": null,
   "metadata": {
    "collapsed": true
   },
   "outputs": [],
   "source": [
    "assert(isinstance(INDEX_Q3, FileIndex)), \"Index Type\"\n",
    "assert(isinstance(QP_Q3, QueryParser)), \"Query Parser Type\"\n",
    "assert(isinstance(SEARCHER_Q3, Searcher)), \"Searcher Type\"\n",
    "print(\"Q3 Types Validated\")"
   ]
  },
  {
   "cell_type": "markdown",
   "metadata": {},
   "source": [
    "### Q4 Validation (Graduate Students)"
   ]
  },
  {
   "cell_type": "code",
   "execution_count": null,
   "metadata": {
    "collapsed": true
   },
   "outputs": [],
   "source": [
    "assert((not GRAD_STUDENT) or isinstance(INDEX_Q4, FileIndex)), \"Index Type\"\n",
    "assert((not GRAD_STUDENT) or isinstance(QP_Q4, QueryParser)), \"Query Parser Type\"\n",
    "assert((not GRAD_STUDENT) or isinstance(SEARCHER_Q4, Searcher)), \"Searcher Type\"\n",
    "print(\"Q4 Types Validated\")"
   ]
  },
  {
   "cell_type": "code",
   "execution_count": null,
   "metadata": {
    "collapsed": true
   },
   "outputs": [],
   "source": []
  }
 ],
 "metadata": {
  "kernelspec": {
   "display_name": "Python [conda env:py35]",
   "language": "python",
   "name": "conda-env-py35-py"
  },
  "language_info": {
   "codemirror_mode": {
    "name": "ipython",
    "version": 3
   },
   "file_extension": ".py",
   "mimetype": "text/x-python",
   "name": "python",
   "nbconvert_exporter": "python",
   "pygments_lexer": "ipython3",
   "version": "3.5.3"
  }
 },
 "nbformat": 4,
 "nbformat_minor": 2
}
